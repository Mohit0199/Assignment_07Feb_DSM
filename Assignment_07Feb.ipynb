{
 "cells": [
  {
   "cell_type": "code",
   "execution_count": 11,
   "id": "2e3a7f6b-bd81-4365-bf55-c6a01db91689",
   "metadata": {},
   "outputs": [
    {
     "name": "stdin",
     "output_type": "stream",
     "text": [
      "Enter the password:  ASgh#$@7hy\n"
     ]
    },
    {
     "name": "stdout",
     "output_type": "stream",
     "text": [
      "Valid Password\n"
     ]
    }
   ],
   "source": [
    "# Q1. You are writing code for a company. The requirement of the company is that you create a python \n",
    "# function that will check whether the password entered by the user is correct or not. The function should \n",
    "# take the password as input and return the string “Valid Password” if the entered password follows the \n",
    "# below-given password guidelines else it should return “Invalid Password”.\n",
    "\n",
    "# Note: 1. The Password should contain at least two uppercase letters and at least two lowercase letters.\n",
    "# 2. The Password should contain at least a number and three special characters.\n",
    "# 3. The length of the password should be 10 characters long.\n",
    "\n",
    "\n",
    "def password_validator(s):\n",
    "    \n",
    "    if len(s) != 10:\n",
    "        return \"Invalid Password\"\n",
    "    \n",
    "    upper_count = sum(1 for char in password if char.isupper())\n",
    "    lower_count = sum(1 for char in password if char.islower())\n",
    "    if upper_count < 2 or lower_count < 2:\n",
    "        return \"Invalid Password\"\n",
    "\n",
    "    digit_count = sum(1 for char in password if char.isdigit())\n",
    "    special_count = sum(1 for char in password if not char.isalnum())\n",
    "    if digit_count < 1 or special_count < 3:\n",
    "        return \"Invalid Password\"\n",
    "    \n",
    "    return \"Valid Password\"\n",
    "\n",
    "\n",
    "password = input(\"Enter the password: \")\n",
    "result = password_validator(password)\n",
    "print(result)"
   ]
  },
  {
   "cell_type": "code",
   "execution_count": 25,
   "id": "cd5692eb-0270-4c2b-87a6-092efe9fe04c",
   "metadata": {},
   "outputs": [],
   "source": [
    "# Q2. Solve the below-given questions using at least one of the following: \n",
    "# 1. Lambda function\n",
    "# 2. Filter function\n",
    "# 3. Map function\n",
    "# 4. List Comprehension"
   ]
  },
  {
   "cell_type": "code",
   "execution_count": 24,
   "id": "2bbb7174-7307-46b2-807e-c6edb4bc2e95",
   "metadata": {},
   "outputs": [
    {
     "name": "stdout",
     "output_type": "stream",
     "text": [
      "True\n"
     ]
    }
   ],
   "source": [
    "# Check if the string starts with a particular letter.\n",
    "string = lambda s, char: True if s.startswith(char) else False\n",
    "print(string(\"Good Evening!!\", \"G\"))"
   ]
  },
  {
   "cell_type": "code",
   "execution_count": 30,
   "id": "1714e528-441f-46f6-9159-8d5b23843558",
   "metadata": {},
   "outputs": [
    {
     "name": "stdout",
     "output_type": "stream",
     "text": [
      "True\n"
     ]
    }
   ],
   "source": [
    "# Check if the string is numeric.\n",
    "is_numeric = lambda s1 : True if s1.isdigit() else False\n",
    "print(is_numeric(\"2024\"))"
   ]
  },
  {
   "cell_type": "code",
   "execution_count": 28,
   "id": "1e8f1e39-f330-4ad2-9064-6899e99029a8",
   "metadata": {},
   "outputs": [
    {
     "name": "stdout",
     "output_type": "stream",
     "text": [
      "[('orange', 80), ('mango', 99), ('grapes', 1000)]\n"
     ]
    }
   ],
   "source": [
    "# Sort a list of tuples having fruit names and their quantity. [(\"mango\",99),(\"orange\",80), (\"grapes\", 1000)]\n",
    "l1 = [(\"mango\",99),(\"orange\",80), (\"grapes\", 1000)]\n",
    "sorted_list = sorted(l1, key=lambda x: x[1])\n",
    "print(sorted_list)"
   ]
  },
  {
   "cell_type": "code",
   "execution_count": 31,
   "id": "1dc4eae1-4263-4987-8c1f-598c7d8a8c4c",
   "metadata": {},
   "outputs": [
    {
     "name": "stdout",
     "output_type": "stream",
     "text": [
      "[1, 4, 9, 16, 25, 36, 49, 64, 81, 100]\n"
     ]
    }
   ],
   "source": [
    "# Find the squares of numbers from 1 to 10.\n",
    "squares = [i**2 for i in range(1, 11)]\n",
    "print(squares)"
   ]
  },
  {
   "cell_type": "code",
   "execution_count": 37,
   "id": "17578205-29d9-41a0-bb19-8b1950c3b5d0",
   "metadata": {},
   "outputs": [
    {
     "name": "stdout",
     "output_type": "stream",
     "text": [
      "[1.0, 1.26, 1.44, 1.59, 1.71, 1.82, 1.91, 2.0, 2.08, 2.15]\n"
     ]
    }
   ],
   "source": [
    "# Find the cube root of numbers from 1 to 10.\n",
    "nums = list(range(1,11))\n",
    "cube_root = list(map(lambda x: round(x**(1/3), 2), nums))\n",
    "print(cube_root)\n",
    "\n",
    "#Result is rounded off to 2 decimal"
   ]
  },
  {
   "cell_type": "code",
   "execution_count": 41,
   "id": "9961a209-5c2b-4a14-996c-1c4cf4da6209",
   "metadata": {},
   "outputs": [
    {
     "name": "stdout",
     "output_type": "stream",
     "text": [
      "True\n"
     ]
    }
   ],
   "source": [
    "# Check if a given number is even.\n",
    "\n",
    "is_even = lambda x : True if x%2==0 else False\n",
    "print(is_even(22))"
   ]
  },
  {
   "cell_type": "code",
   "execution_count": 48,
   "id": "5cb16c29-f201-41ab-a9e4-5521fda21bdc",
   "metadata": {},
   "outputs": [
    {
     "name": "stdout",
     "output_type": "stream",
     "text": [
      "[1, 3, 5, 7, 9]\n"
     ]
    }
   ],
   "source": [
    "# Filter odd numbers from the given list.\n",
    "#  [1,2,3,4,5,6,7,8,9,10]\n",
    "\n",
    "num_list = [1,2,3,4,5,6,7,8,9,10]\n",
    "odd_nums = list(filter(lambda x: x%2 != 0, num_list))\n",
    "print(odd_nums)"
   ]
  },
  {
   "cell_type": "code",
   "execution_count": 49,
   "id": "74b545a0-a951-407d-9226-7bccd2bcfefe",
   "metadata": {},
   "outputs": [
    {
     "name": "stdout",
     "output_type": "stream",
     "text": [
      "Original list: [1, 2, 3, 4, 5, 6, -1, -2, -3, -4, -5, 0]\n",
      "Positive integer list: [1, 2, 3, 4, 5, 6]\n",
      "Negative integer list: [-1, -2, -3, -4, -5]\n"
     ]
    }
   ],
   "source": [
    "# Sort a list of integers into positive and negative integers lists.\n",
    "#  [1,2,3,4,5,6,-1,-2,-3,-4,-5,0]\n",
    "\n",
    "int_list = [1,2,3,4,5,6,-1,-2,-3,-4,-5,0]\n",
    "positive_int = list(filter(lambda x: x > 0, int_list))  #using filter function\n",
    "negative_int = [i for i in int_list if i < 0]   #using list comprehension\n",
    "\n",
    "print(f\"Original list: {int_list}\")\n",
    "print(f\"Positive integer list: {positive_int}\")\n",
    "print(f\"Negative integer list: {negative_int}\")"
   ]
  },
  {
   "cell_type": "code",
   "execution_count": null,
   "id": "05f97e4a-4305-4344-b5c7-59b7342ed6f3",
   "metadata": {},
   "outputs": [],
   "source": []
  },
  {
   "cell_type": "code",
   "execution_count": null,
   "id": "4abffd4c-664d-4bfa-90d4-d4b039e7d76f",
   "metadata": {},
   "outputs": [],
   "source": []
  }
 ],
 "metadata": {
  "kernelspec": {
   "display_name": "Python 3 (ipykernel)",
   "language": "python",
   "name": "python3"
  },
  "language_info": {
   "codemirror_mode": {
    "name": "ipython",
    "version": 3
   },
   "file_extension": ".py",
   "mimetype": "text/x-python",
   "name": "python",
   "nbconvert_exporter": "python",
   "pygments_lexer": "ipython3",
   "version": "3.10.8"
  }
 },
 "nbformat": 4,
 "nbformat_minor": 5
}
